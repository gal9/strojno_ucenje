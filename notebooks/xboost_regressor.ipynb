{
 "cells": [
  {
   "cell_type": "code",
   "execution_count": null,
   "metadata": {},
   "outputs": [],
   "source": [
    "import sys\n",
    "sys.path.append(\"../utils\")\n",
    "\n",
    "from Data_handler import Data_handler\n",
    "from sklearn.feature_selection import SelectKBest\n",
    "from sklearn.ensemble import GradientBoostingRegressor\n",
    "from sklearn.model_selection import train_test_split, cross_val_score, TimeSeriesSplit, GridSearchCV"
   ]
  },
  {
   "cell_type": "code",
   "execution_count": null,
   "metadata": {},
   "outputs": [],
   "source": [
    "data = Data_handler(\"../data/ground/85012.csv\")\n",
    "data.calculate_level_diff()\n",
    "data.construct_features(max_average=10, max_shift=20, skip=[\"level\", \"level_diff\"], horizon=1)\n",
    "data.target_value_construction(horizons=[1])\n",
    "data.select_k_best_features(15, \"level_diff_target_h1\")\n",
    "data.show()"
   ]
  },
  {
   "cell_type": "code",
   "execution_count": null,
   "metadata": {},
   "outputs": [],
   "source": [
    "\n",
    "#splits data considering it is a time series\n",
    "timeSeriesCV=TimeSeriesSplit(n_splits=10)\n",
    "model=GradientBoostingRegressor(n_estimators=100)\n",
    "\n",
    "y = data.dataframe[\"level_diff_target_h1\"]\n",
    "X = data.dataframe.drop(columns=[\"level_diff_target_h1\"])\n",
    "\n",
    "cvs=cross_val_score(model, X, y, scoring='r2', cv=timeSeriesCV)\n",
    "print(\"R2: \", cvs.mean(), \" stdev: \", cvs.std())\n"
   ]
  }
 ],
 "metadata": {
  "interpreter": {
   "hash": "825e8c20d31a674ca83879cf9aea705ad2d23e74ae29dd7ad4f2a98912ece78a"
  },
  "kernelspec": {
   "display_name": "Python 3.8.0 64-bit (conda)",
   "language": "python",
   "name": "python3"
  },
  "language_info": {
   "codemirror_mode": {
    "name": "ipython",
    "version": 3
   },
   "file_extension": ".py",
   "mimetype": "text/x-python",
   "name": "python",
   "nbconvert_exporter": "python",
   "pygments_lexer": "ipython3",
   "version": "3.7.0"
  },
  "orig_nbformat": 4
 },
 "nbformat": 4,
 "nbformat_minor": 2
}
