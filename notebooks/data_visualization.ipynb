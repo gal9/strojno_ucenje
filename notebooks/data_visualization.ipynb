{
 "cells": [
  {
   "cell_type": "markdown",
   "metadata": {},
   "source": [
    "# DATA PREPARATION"
   ]
  },
  {
   "cell_type": "code",
   "execution_count": null,
   "metadata": {},
   "outputs": [],
   "source": [
    "import sys\n",
    "sys.path.append(\"../utils\")\n",
    "\n",
    "from Data_handler import Data_handler"
   ]
  },
  {
   "cell_type": "code",
   "execution_count": null,
   "metadata": {},
   "outputs": [],
   "source": [
    "horizon = 1\n",
    "additional = [1, 2, 3, 4, 5, 6, 7, 10, 20]\n",
    "target = \"level\"\n",
    "\n",
    "data=Data_handler(\"../data/ground/85030.csv\")\n",
    "data.show()\n",
    "data.construct_features(averages=additional, shifts=additional, skip=[\"level\"], horizon=horizon)\n",
    "data.construct_time_of_year()\n",
    "# Must be after feature construction\n",
    "data.target_value_construction(horizon=horizon, target=target)\n",
    "data.show()\n",
    "data.graph(\"level\")"
   ]
  },
  {
   "cell_type": "code",
   "execution_count": null,
   "metadata": {},
   "outputs": [],
   "source": []
  }
 ],
 "metadata": {
  "kernelspec": {
   "display_name": "Python 3",
   "language": "python",
   "name": "python3"
  },
  "language_info": {
   "codemirror_mode": {
    "name": "ipython",
    "version": 3
   },
   "file_extension": ".py",
   "mimetype": "text/x-python",
   "name": "python",
   "nbconvert_exporter": "python",
   "pygments_lexer": "ipython3",
   "version": "3.7.12"
  }
 },
 "nbformat": 4,
 "nbformat_minor": 4
}
