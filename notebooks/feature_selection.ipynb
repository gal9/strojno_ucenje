{
 "cells": [
  {
   "cell_type": "code",
   "execution_count": null,
   "metadata": {},
   "outputs": [],
   "source": [
    "import sys\n",
    "sys.path.append(\"../utils\")\n",
    "\n",
    "from Data_handler import Data_handler\n",
    "import pandas as pd"
   ]
  },
  {
   "cell_type": "code",
   "execution_count": null,
   "metadata": {},
   "outputs": [],
   "source": [
    "horizon = 5\n",
    "additional = [1, 2, 3, 4, 5, 6, 7, 10]\n",
    "preselected = [\n",
    "]\n",
    "target = \"level\"\n",
    "K = 10"
   ]
  },
  {
   "cell_type": "code",
   "execution_count": null,
   "metadata": {},
   "outputs": [],
   "source": [
    "data = Data_handler(\"../data/ground/85012.csv\")\n",
    "# Feature construction\n",
    "data.construct_features(averages=additional, shifts=additional, skip=[\"level\"], horizon=horizon)\n",
    "data.construct_time_of_year()\n",
    "data.show()\n",
    "# Target construction\n",
    "# Must be after feature construction\n",
    "data.target_value_construction(horizon=horizon, target=target)"
   ]
  },
  {
   "cell_type": "code",
   "execution_count": null,
   "metadata": {},
   "outputs": [],
   "source": [
    "data.select_k_best_features(K, f\"{target}_target_h{horizon}\", preselected=preselected)\n",
    "data.show()"
   ]
  },
  {
   "cell_type": "code",
   "execution_count": null,
   "metadata": {},
   "outputs": [],
   "source": [
    "from sklearn.ensemble import GradientBoostingRegressor\n",
    "from sklearn.metrics import r2_score\n",
    "from typing import Any, Optional, List\n",
    "from fastener.random_utils import shuffle\n",
    "from fastener.item import Result, Genes, RandomFlipMutationStrategy, RandomEveryoneWithEveryone, \\\n",
    "    IntersectionMating, UnionMating, IntersectionMatingWithInformationGain, \\\n",
    "    IntersectionMatingWithWeightedRandomInformationGain\n",
    "from fastener import fastener\n",
    "\n",
    "df = data.dataframe\n",
    "\n",
    "general_model = GradientBoostingRegressor\n",
    "\n",
    "#sets number of samples and number of semples used for testing\n",
    "n_sample=df.shape[0]\n",
    "n_test=int(n_sample*0.8)\n",
    "\n",
    "#le = preprocessing.LabelEncoder()\n",
    "#le.fit(df['h1'].values.astype(float))\n",
    "\n",
    "labels_train=df[f\"{target}_target_h{horizon}\"].values.astype(float)[:n_test]\n",
    "labels_test=df[f\"{target}_target_h{horizon}\"].values.astype(float)[n_test:]\n",
    "\n",
    "df = df.drop(columns=[f\"{target}_target_h{horizon}\"])\n",
    "\n",
    "XX_train=df.to_numpy()[:n_test, :]\n",
    "XX_test=df.to_numpy()[n_test:, :]\n",
    "\n",
    "\n",
    "def eval_fun(model: Any, genes: \"Genes\", shuffle_indices: Optional[List[int]] = None) -> \"Result\":\n",
    "    test_data = XX_test[:, genes]\n",
    "    if shuffle_indices:\n",
    "        test_data = test_data.copy()\n",
    "        for j in shuffle_indices:\n",
    "            shuffle(test_data[:, j])\n",
    "    pred = model.predict(test_data)\n",
    "    res = Result(r2_score(labels_test, pred))\n",
    "    return res\n",
    "\n",
    "number_of_genes = XX_train.shape[1]\n",
    "\n",
    "# 2d array of indices of genes (features)\n",
    "initial_genes = [\n",
    "    [0, 1, 2, 3, 4, 5, 6]\n",
    "]\n",
    "# Select mating strategies\n",
    "mating = RandomEveryoneWithEveryone(pool_size=5, mating_strategy=IntersectionMatingWithWeightedRandomInformationGain(regression=True))\n",
    "\n",
    "# Random mutation\n",
    "mutation = RandomFlipMutationStrategy(1 / number_of_genes)\n",
    "\n",
    "entropy_optimizer = fastener.EntropyOptimizer(\n",
    "    general_model, XX_train, labels_train, eval_fun,\n",
    "    number_of_genes, mating, mutation, initial_genes=initial_genes,\n",
    "    config=fastener.Config(output_folder=\"85012\", random_seed=2020, reset_to_pareto_rounds=5)\n",
    ")\n",
    "\n",
    "entropy_optimizer.mainloop()"
   ]
  },
  {
   "cell_type": "code",
   "execution_count": null,
   "metadata": {},
   "outputs": [],
   "source": [
    "object = pd.read_pickle(r'log/85012/generation_1000.pickle')\n",
    "values=object.front.values()\n",
    "m=0\n",
    "for v in values:\n",
    "    if v.result.score>m:\n",
    "        m=v.result.score\n",
    "        win=v\n",
    "feat=df\n",
    "selected_features_h1 = feat.iloc[:, win.genes].columns\n",
    "print(selected_features_h1)"
   ]
  }
 ],
 "metadata": {
  "interpreter": {
   "hash": "465595f5739e308ac592ed156102c4aa3348f83c5d5f6fe8bce182a685a246e7"
  },
  "kernelspec": {
   "display_name": "Python 3.7.0 64-bit (conda)",
   "language": "python",
   "name": "python3"
  },
  "language_info": {
   "codemirror_mode": {
    "name": "ipython",
    "version": 3
   },
   "file_extension": ".py",
   "mimetype": "text/x-python",
   "name": "python",
   "nbconvert_exporter": "python",
   "pygments_lexer": "ipython3",
   "version": "3.7.0"
  },
  "orig_nbformat": 4
 },
 "nbformat": 4,
 "nbformat_minor": 2
}
