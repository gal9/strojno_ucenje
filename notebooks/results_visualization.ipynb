{
 "cells": [
  {
   "cell_type": "code",
   "execution_count": null,
   "metadata": {},
   "outputs": [],
   "source": [
    "import matplotlib.pyplot as plt"
   ]
  },
  {
   "cell_type": "code",
   "execution_count": null,
   "metadata": {},
   "outputs": [],
   "source": [
    "decay_rates = [0, 0, 0.76, 0.85, 0.88, 0.89, 0.9, 0.9, 0.91, 0.91]\n",
    "decaying_average_scores = [0.7809965279644093, 0.4501209804373264, 0.25483848531179737, 0.17421492056231797, 0.1206111741958898, 0.08015956811469575, 0.047371458074186266, 0.019347340177243343, -0.007199621516236032, -0.03383335462061905]\n",
    "random_forest_scores = [0.8231057608228532, 0.5736559795525431, 0.404005485004572, 0.295612574051241, 0.2151293620785083, 0.14534570056769258, 0.10433908105068362, 0.09934552346227064, 0.07808761874030126, 0.049393790839834806]\n",
    "RANSAC_scores = [0.8101027412736854 , 0.5333387912037195, 0.35183556032566227, 0.23511125031668545, 0.15749156809945594, 0.08521721868632409, 0.03125177659473481, -0.07217175644545416, -0.07668974701949036, -0.12405033962765344]\n",
    "GP_scores = [-0.16489293927010382, -0.16600327569967338, -0.20166673508139396, -0.20375337544810113, -0.20649506148376562, -0.2060226037878377, -0.20425513898518682, -0.20836225444057405, -0.22773591229952048, -0.23966281824661512 ]\n",
    "gradient_boosting_scores = [0.839411484340841,  0.5915592140084929, 0.4145711904891291, 0.3147330132070727, 0.25177402311299313, 0.1953916408871273, 0.16001758817381243, 0.12911702417408527,  0.09656167325008963, 0.07676439560894653]\n",
    "prophet_scores = [0.6603670094789276, -0.00664690616268192, -4.9023666146500835, -6.805443181442503, -8.904578597731765, -7.950927740756334, -8.769539815870138, -10.652873667139103, -5.619424280996849, -4.705938277921665]"
   ]
  },
  {
   "cell_type": "code",
   "execution_count": null,
   "metadata": {},
   "outputs": [],
   "source": [
    "plt.plot(list(range(1, 11)), decaying_average_scores, label=\"Baseline\")\n",
    "plt.plot(list(range(1, 11)), gradient_boosting_scores, label=\"Gradient boosting\")\n",
    "plt.title(f\"Gradient boosting results\")\n",
    "plt.xlabel(\"Horizon\")\n",
    "plt.ylabel(\"Best R2 score\")\n",
    "plt.legend()\n",
    "plt.show()\n"
   ]
  },
  {
   "cell_type": "code",
   "execution_count": null,
   "metadata": {},
   "outputs": [],
   "source": [
    "plt.plot(list(range(1, 11)), decaying_average_scores, label=\"Baseline\")\n",
    "plt.plot(list(range(1, 11)), prophet_scores, label=\"Prophet with selected features\")\n",
    "plt.title(f\"Prophet results\")\n",
    "plt.xlabel(\"Horizon\")\n",
    "plt.ylabel(\"Best R2 score\")\n",
    "plt.legend()\n",
    "plt.show()"
   ]
  },
  {
   "cell_type": "code",
   "execution_count": null,
   "metadata": {},
   "outputs": [],
   "source": [
    "plt.plot(list(range(1, 11)), decay_rates)\n",
    "plt.title(f\"Decay rates\")\n",
    "plt.xlabel(\"Horizon\")\n",
    "plt.ylabel(\"Best decay rate\")\n",
    "plt.show()"
   ]
  },
  {
   "cell_type": "code",
   "execution_count": null,
   "metadata": {},
   "outputs": [],
   "source": [
    "for i, score in enumerate(gradient_boosting_scores):\n",
    "    if(score<0):\n",
    "        gradient_boosting_scores[i] = 0\n",
    "\n",
    "for i, score in enumerate(prophet_scores):\n",
    "    if(score<0):\n",
    "        prophet_scores[i] = 0\n",
    "\n",
    "for i, score in enumerate(decaying_average_scores):\n",
    "    if(score<0):\n",
    "        decaying_average_scores[i] = 0\n",
    "\n",
    "for i, score in enumerate(random_forest_scores):\n",
    "    if(score<0):\n",
    "        random_forest_scores[i] = 0\n",
    "\n",
    "for i, score in enumerate(RANSAC_scores):\n",
    "    if(score<0):\n",
    "        RANSAC_scores[i] = 0\n",
    "\n",
    "for i, score in enumerate(GP_scores):\n",
    "    if(score<0):\n",
    "        GP_scores[i] = 0\n",
    "    \n",
    "plt.plot(list(range(1, 11)), decaying_average_scores, label=\"Baseline\")\n",
    "plt.plot(list(range(1, 11)), prophet_scores, label=\"Prophet with selected features\")\n",
    "plt.plot(list(range(1, 11)), RANSAC_scores, label=\"RANSAC\")\n",
    "plt.title(f\"Results of Prophet, RANSAC and Gaussian process\")\n",
    "plt.xlabel(\"Horizon\")\n",
    "plt.ylabel(\"Best R2 score\")\n",
    "plt.legend()\n",
    "plt.show()"
   ]
  },
  {
   "cell_type": "code",
   "execution_count": null,
   "metadata": {},
   "outputs": [],
   "source": [
    "for i, score in enumerate(gradient_boosting_scores):\n",
    "    if(score<0):\n",
    "        gradient_boosting_scores[i] = 0\n",
    "\n",
    "for i, score in enumerate(decaying_average_scores):\n",
    "    if(score<0):\n",
    "        decaying_average_scores[i] = 0\n",
    "\n",
    "for i, score in enumerate(random_forest_scores):\n",
    "    if(score<0):\n",
    "        random_forest_scores[i] = 0\n",
    "\n",
    "plt.plot(list(range(1, 11)), decaying_average_scores, label=\"Baseline\")\n",
    "plt.plot(list(range(1, 11)), random_forest_scores, label=\"Random forest\")\n",
    "plt.plot(list(range(1, 11)), gradient_boosting_scores, label=\"Gradient boosting\")\n",
    "plt.title(f\"Results of Random forest and Gradient boosting\")\n",
    "plt.xlabel(\"Horizon\")\n",
    "plt.ylabel(\"Best R2 score\")\n",
    "plt.legend()\n",
    "plt.show()"
   ]
  }
 ],
 "metadata": {
  "interpreter": {
   "hash": "4d100e3277176128e24265fb0cc384b2e6ee4249881b5a83155e5dfd5f941b54"
  },
  "kernelspec": {
   "display_name": "Python 3.8.3 64-bit ('base': conda)",
   "language": "python",
   "name": "python3"
  },
  "language_info": {
   "codemirror_mode": {
    "name": "ipython",
    "version": 3
   },
   "file_extension": ".py",
   "mimetype": "text/x-python",
   "name": "python",
   "nbconvert_exporter": "python",
   "pygments_lexer": "ipython3",
   "version": "3.8.3"
  },
  "orig_nbformat": 4
 },
 "nbformat": 4,
 "nbformat_minor": 2
}
