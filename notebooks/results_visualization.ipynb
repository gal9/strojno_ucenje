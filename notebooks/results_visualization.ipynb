{
 "cells": [
  {
   "cell_type": "code",
   "execution_count": null,
   "metadata": {},
   "outputs": [],
   "source": [
    "import matplotlib.pyplot as plt"
   ]
  },
  {
   "cell_type": "code",
   "execution_count": null,
   "metadata": {},
   "outputs": [],
   "source": [
    "decay_rates = [0, 0, 0.76, 0.85, 0.88, 0.89, 0.9, 0.9, 0.91, 0.91]\n",
    "decaying_average_scores = [0.7809965279644093, 0.4501209804373264, 0.25483848531179737, 0.17421492056231797, 0.1206111741958898, 0.08015956811469575, 0.047371458074186266, 0.019347340177243343, -0.007199621516236032, -0.03383335462061905]\n",
    "random_forest_scores = [0.8231057608228532, 0.5736559795525431, 0.404005485004572 ]\n",
    "RANSAC_scores = [0.8101027412736854 , 0.5333387912037195, 0.35183556032566227, 0.23511125031668545, 0.15749156809945594, 0.08521721868632409, 0.03125177659473481, -0.07217175644545416, -0.07668974701949036, -0.12405033962765344]\n",
    "GP_scores = []\n",
    "gradient_boosting_scores = [0.839411484340841,  0.5915592140084929, 0.4145711904891291, 0.3147330132070727, 0.25177402311299313, 0.1953916408871273, 0.16001758817381243, 0.12911702417408527,  0.09656167325008963, 0.07676439560894653]\n",
    "prophet_scores = []"
   ]
  },
  {
   "cell_type": "code",
   "execution_count": null,
   "metadata": {},
   "outputs": [],
   "source": [
    "plt.plot(list(range(1, 11)), decaying_average_scores, label=\"Baseline\")\n",
    "plt.plot(list(range(1, 11)), gradient_boosting_scores, label=\"Gradient boosting\")\n",
    "plt.title(f\"Gradient boosting results\")\n",
    "plt.xlabel(\"Horizon\")\n",
    "plt.ylabel(\"Best R2 score\")\n",
    "plt.legend()\n",
    "plt.show()\n"
   ]
  },
  {
   "cell_type": "code",
   "execution_count": null,
   "metadata": {},
   "outputs": [],
   "source": [
    "plt.plot(list(range(1, 11)), decaying_average_scores, label=\"Baseline\")\n",
    "plt.plot(list(range(1, 11)), prophet_scores, label=\"Prophet with selected features\")\n",
    "plt.title(f\"Prophet results\")\n",
    "plt.xlabel(\"Horizon\")\n",
    "plt.ylabel(\"Best R2 score\")\n",
    "plt.legend()\n",
    "plt.show()"
   ]
  },
  {
   "cell_type": "code",
   "execution_count": null,
   "metadata": {},
   "outputs": [],
   "source": [
    "plt.plot(list(range(1, 11)), decay_rates)\n",
    "plt.title(f\"Decay rates\")\n",
    "plt.xlabel(\"Horizon\")\n",
    "plt.ylabel(\"Best decay rate\")\n",
    "plt.show()"
   ]
  },
  {
   "cell_type": "code",
   "execution_count": null,
   "metadata": {},
   "outputs": [],
   "source": [
    "for i, score in enumerate(gradient_boosting_scores):\n",
    "    if(score<0):\n",
    "        gradient_boosting_scores[i] = 0\n",
    "\n",
    "for i, score in enumerate(prophet_scores):\n",
    "    if(score<0):\n",
    "        prophet_scores[i] = 0\n",
    "\n",
    "for i, score in enumerate(decaying_average_scores):\n",
    "    if(score<0):\n",
    "        decaying_average_scores[i] = 0\n",
    "\n",
    "for i, score in enumerate(random_forest_scores):\n",
    "    if(score<0):\n",
    "        random_forest_scores[i] = 0\n",
    "\n",
    "for i, score in enumerate(RANSAC_scores):\n",
    "    if(score<0):\n",
    "        RANSAC_scores[i] = 0\n",
    "\n",
    "for i, score in enumerate(GP_scores):\n",
    "    if(score<0):\n",
    "        GP_scores[i] = 0\n",
    "    \n",
    "plt.plot(list(range(1, 11)), decaying_average_scores, label=\"Baseline\")\n",
    "plt.plot(list(range(1, 11)), prophet_scores, label=\"Prophet with selected features\")\n",
    "plt.plot(list(range(1, 11)), RANSAC_scores, label=\"RANSAC\")\n",
    "plt.plot(list(range(1, 11)), GP_scores, label=\"Gaussian process\")\n",
    "plt.title(f\"Results of Prophet, RANSAC and Gaussian process\")\n",
    "plt.xlabel(\"Horizon\")\n",
    "plt.ylabel(\"Best R2 score\")\n",
    "plt.legend()\n",
    "plt.show()"
   ]
  },
  {
   "cell_type": "code",
   "execution_count": null,
   "metadata": {},
   "outputs": [],
   "source": [
    "for i, score in enumerate(gradient_boosting_scores):\n",
    "    if(score<0):\n",
    "        gradient_boosting_scores[i] = 0\n",
    "\n",
    "for i, score in enumerate(decaying_average_scores):\n",
    "    if(score<0):\n",
    "        decaying_average_scores[i] = 0\n",
    "\n",
    "for i, score in enumerate(random_forest_scores):\n",
    "    if(score<0):\n",
    "        random_forest_scores[i] = 0\n",
    "\n",
    "plt.plot(list(range(1, 11)), decaying_average_scores, label=\"Baseline\")\n",
    "plt.plot(list(range(1, 11)), random_forest_scores, label=\"Random forest\")\n",
    "plt.plot(list(range(1, 11)), gradient_boosting_scores, label=\"Gradient boosting\")\n",
    "plt.title(f\"Results of Random forest and Gradient boosting\")\n",
    "plt.xlabel(\"Horizon\")\n",
    "plt.ylabel(\"Best R2 score\")\n",
    "plt.legend()\n",
    "plt.show()"
   ]
  }
 ],
 "metadata": {
  "interpreter": {
   "hash": "4d100e3277176128e24265fb0cc384b2e6ee4249881b5a83155e5dfd5f941b54"
  },
  "kernelspec": {
   "display_name": "Python 3.8.3 64-bit ('base': conda)",
   "language": "python",
   "name": "python3"
  },
  "language_info": {
   "codemirror_mode": {
    "name": "ipython",
    "version": 3
   },
   "file_extension": ".py",
   "mimetype": "text/x-python",
   "name": "python",
   "nbconvert_exporter": "python",
   "pygments_lexer": "ipython3",
   "version": "3.8.3"
  },
  "orig_nbformat": 4
 },
 "nbformat": 4,
 "nbformat_minor": 2
}
